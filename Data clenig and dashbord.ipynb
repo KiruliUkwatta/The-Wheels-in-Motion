{
 "cells": [
  {
   "cell_type": "code",
   "execution_count": null,
   "metadata": {},
   "outputs": [],
   "source": [
    "import pandas as pd\n",
    "import glob\n",
    "\n",
    "file_paths = glob.glob('/content/Untitled Folder/*.csv')\n",
    "all_dataframes = []\n",
    "for file_path in file_paths:\n",
    "    df = pd.read_csv(file_path)\n",
    "    all_dataframes.append(df)\n",
    "\n",
    "vehicles_df = pd.concat(all_dataframes, ignore_index=False)\n",
    "\n",
    "vehicles_df.head()\n",
    "vehicles_df.shape"
   ]
  },
  {
   "cell_type": "code",
   "execution_count": null,
   "metadata": {},
   "outputs": [],
   "source": []
  },
  {
   "cell_type": "markdown",
   "metadata": {},
   "source": [
    "## Display precentage of null valus"
   ]
  },
  {
   "cell_type": "code",
   "execution_count": null,
   "metadata": {},
   "outputs": [],
   "source": [
    "\n",
    "null_counts = vehicles_df.isnull().sum()\n",
    "print(null_counts)\n",
    "\n",
    "null_counts = df.isnull().sum()\n",
    "null_percentage = (null_counts / len(df)) * 100\n",
    "null_percentage = null_percentage.round(2)\n",
    "print(null_percentage)\n"
   ]
  },
  {
   "cell_type": "code",
   "execution_count": null,
   "metadata": {},
   "outputs": [],
   "source": []
  },
  {
   "cell_type": "markdown",
   "metadata": {},
   "source": [
    "## Display the structure of the DataFrame"
   ]
  },
  {
   "cell_type": "code",
   "execution_count": null,
   "metadata": {},
   "outputs": [],
   "source": [
    "\n",
    "vehicles_df.drop_duplicates(keep='first', inplace=True)\n",
    "null_counts = vehicles_df.isnull().sum()\n",
    "print(null_counts)\n",
    "vehicles_df.isnull().sum().sum()\n",
    "print(vehicles_df.info())\n",
    "print(vehicles_df.describe())\n",
    "print(vehicles_df.head())\n",
    "print(123)\n",
    "print(123)"
   ]
  },
  {
   "cell_type": "code",
   "execution_count": null,
   "metadata": {},
   "outputs": [],
   "source": [
    "#Drop the valus that has all tha valus are null\n",
    "vehicles_df.dropna(how='all', inplace=True)\n",
    "\n",
    "# Check to confirm no null values remain\n",
    "vehicles_df[['Vehicle Model Year', 'ZIP Code']] = vehicles_df[['Vehicle Model Year', 'ZIP Code']].interpolate(method='linear')\n",
    "\n",
    "#fill the missing valus\n",
    "vehicles_df=vehicles_df.fillna({'Vehicle Model':'unknown','Vehicle Make':'unknown','Vehicle Color':'unknown','Vehicle Make':'unknown','Address':'unknown','City':'unknown','State':'unknown','Taxi Affiliation':'Affiliation unknown','Taxi Medallion License Management ':'unknown'})\n",
    "\n",
    "null_counts = vehicles_df.isnull().sum()\n",
    "print(null_counts)"
   ]
  },
  {
   "cell_type": "code",
   "execution_count": null,
   "metadata": {},
   "outputs": [],
   "source": [
    "vehicles_df.head()"
   ]
  },
  {
   "cell_type": "code",
   "execution_count": null,
   "metadata": {},
   "outputs": [],
   "source": []
  },
  {
   "cell_type": "markdown",
   "metadata": {},
   "source": [
    "## Adding new columns and Column Removal"
   ]
  },
  {
   "cell_type": "code",
   "execution_count": null,
   "metadata": {},
   "outputs": [],
   "source": [
    "#Adding new columns to the Dataframe\n",
    "vehicles_df['Vehicle Type'] = vehicles_df['Record ID'].apply(lambda x: x.split('-')[0])\n",
    "\n",
    "#Column Removal\n",
    "vehicles_df.drop(columns=['Address', 'Public Vehicle Number'], inplace=True)\n",
    "\n"
   ]
  },
  {
   "cell_type": "code",
   "execution_count": null,
   "metadata": {},
   "outputs": [],
   "source": [
    "\n",
    "vehicles_df.head()"
   ]
  },
  {
   "cell_type": "markdown",
   "metadata": {},
   "source": []
  },
  {
   "cell_type": "code",
   "execution_count": null,
   "metadata": {},
   "outputs": [],
   "source": [
    "## Dashboard\n",
    "pip install jupyter_dash\n",
    "pip install Dash\n",
    "### Prepare data for visualizations\n",
    "\n",
    "from dash import Dash, dcc, html\n",
    "import plotly.express as px\n",
    "\n",
    "required_columns = ['Vehicle Make', 'Wheelchair Accessible', 'Status',\n",
    "                    'Vehicle Model Year', 'ZIP Code', 'Taxi Affiliation']\n",
    "for col in required_columns:\n",
    "    if col not in vehicles_df.columns:\n",
    "        print(f\"Column {col} is missing in the data.\")\n",
    "\n",
    "\n",
    "# Prepare data for visualizations\n",
    "vehicle_make_distribution = vehicles_df['Vehicle Make'].value_counts().reset_index()\n",
    "vehicle_make_distribution.columns = ['Vehicle Make', 'Count']\n",
    "\n",
    "wheelchair_accessible = vehicles_df['Wheelchair Accessible'].value_counts().reset_index()\n",
    "wheelchair_accessible.columns = ['Wheelchair Accessible', 'Count']\n",
    "\n",
    "status_distribution = vehicles_df['Status'].value_counts().reset_index()\n",
    "status_distribution.columns = ['Status', 'Count']\n",
    "\n",
    "model_year_status = vehicles_df.groupby(['Vehicle Model Year', 'Status']).size().reset_index(name='Count')\n",
    "\n",
    "zip_distribution = vehicles_df['ZIP Code'].value_counts().reset_index()\n",
    "zip_distribution.columns = ['ZIP Code', 'Count']\n",
    "\n",
    "taxi_affiliation = vehicles_df['Taxi Affiliation'].value_counts().reset_index()\n",
    "taxi_affiliation.columns = ['Taxi Affiliation', 'Count']\n",
    "\n",
    "license_management = vehicles_df['Taxi Medallion License Management '].value_counts().reset_index()\n",
    "license_management.columns = ['License Management', 'Count']\n",
    "\n",
    "# Filter and sort for better visualizations\n",
    "vehicle_make_distribution = vehicle_make_distribution[vehicle_make_distribution['Count'] > 5]\n",
    "vehicle_make_distribution.sort_values(by='Count', ascending=False, inplace=True)\n",
    "\n",
    "zip_distribution = zip_distribution[zip_distribution['Count'] > 10]\n",
    "\n",
    "# Create the Dash app\n",
    "app = Dash(__name__)\n",
    "\n",
    "\n"
   ]
  }
 ],
 "metadata": {
  "language_info": {
   "name": "python"
  }
 },
 "nbformat": 4,
 "nbformat_minor": 2
}
